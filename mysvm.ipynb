{
 "cells": [
  {
   "cell_type": "code",
   "execution_count": 1,
   "metadata": {},
   "outputs": [
    {
     "name": "stdout",
     "output_type": "stream",
     "text": [
      "[[ 1.          0.04761905  0.          0.04761905  0.0952381   0.\n",
      "   0.0952381   0.          0.          0.14285714  0.          0.\n",
      "   0.04761905  0.14285714  0.0952381   0.          0.04761905  0.04761905\n",
      "   0.04761905  0.          0.0952381 ]\n",
      " [-1.          0.23809524  0.          0.          0.04761905  0.\n",
      "   0.04761905  0.          0.          0.          0.          0.\n",
      "   0.          0.19047619  0.          0.          0.19047619  0.28571429\n",
      "   0.          0.          0.        ]]\n"
     ]
    },
    {
     "data": {
      "text/plain": [
       "SVC(C=1, coef0=0, gamma='auto')"
      ]
     },
     "execution_count": 1,
     "metadata": {},
     "output_type": "execute_result"
    }
   ],
   "source": [
    "from sklearn import svm\n",
    "import numpy as np\n",
    "\n",
    "train_path = \"./Encoding_result/train_ptm.txt\"\n",
    "test_path = \"./Encoding_result/test_ptm.txt\"\n",
    "\n",
    "# read and convert train path data to numpy array\n",
    "train_data = np.loadtxt(train_path, delimiter=',')\n",
    "print (train_data[2:4])\n",
    "\n",
    "# divided train_data two featues and label first index is label\n",
    "train_label = train_data[:, 0]\n",
    "train_features = train_data[:, 1:]\n",
    "\n",
    "# print (train_label[2:4])\n",
    "# print (train_features[2:4])\n",
    "\n",
    "format = \"csv\" # choices=['tsv', 'svm', 'csv', 'weka']\n",
    "kernel = \"rbf\" #choices=['linear', 'poly', 'rbf', 'sigmoid']\n",
    "auto = 'False' #auto optimize parameters\n",
    "batch = 0.4 #random select part (batch * samples) samples for parameters optimization\n",
    "degree = 3 #set degree in polynomial kernel function (default 3)\n",
    "gamma = 'auto' #set gamma in polynomial/rbf/sigmoid kernel function (default 1/k)\n",
    "coef0 = 0 #set coef0 in polynomial/rbf/sigmoid kernel function (default 0)\n",
    "cost = 1  #set the parameter cost value (default 1)\n",
    "fold = 8 #n-fold cross validation mode (default 5-fold cross-validation, 1 means jack-knife cross-validation)\n",
    "out = 'SVM' #set prefix for output score file\n",
    "\n",
    "\n",
    "clf = svm.SVC(kernel=kernel, C=cost, gamma=gamma, coef0=coef0, degree=degree)\n",
    "clf.fit(train_features, train_label)\n"
   ]
  },
  {
   "cell_type": "code",
   "execution_count": 2,
   "metadata": {},
   "outputs": [
    {
     "name": "stdout",
     "output_type": "stream",
     "text": [
      "[[ 1.          0.04761905  0.          0.0952381   0.04761905  0.0952381\n",
      "   0.          0.04761905  0.0952381   0.0952381   0.28571429  0.\n",
      "   0.          0.04761905  0.          0.          0.          0.04761905\n",
      "   0.          0.          0.04761905]\n",
      " [-1.          0.04761905  0.          0.14285714  0.04761905  0.\n",
      "   0.0952381   0.04761905  0.0952381   0.          0.0952381   0.\n",
      "   0.04761905  0.04761905  0.          0.          0.04761905  0.0952381\n",
      "   0.04761905  0.04761905  0.0952381 ]]\n"
     ]
    }
   ],
   "source": [
    "test_path = \"./Encoding_result/test_ptm.txt\"\n",
    "\n",
    "# read and convert train path data to numpy array\n",
    "test_data = np.loadtxt(test_path, delimiter=',')\n",
    "print (test_data[2:4])\n",
    "\n",
    "# divided test_data two featues and label first index is label\n",
    "test_label = test_data[:, 0]\n",
    "test_features = test_data[:, 1:]"
   ]
  },
  {
   "cell_type": "code",
   "execution_count": 3,
   "metadata": {},
   "outputs": [
    {
     "data": {
      "text/plain": [
       "array([ 1., -1.,  1., -1.,  1., -1.,  1.,  1., -1.,  1.])"
      ]
     },
     "execution_count": 3,
     "metadata": {},
     "output_type": "execute_result"
    }
   ],
   "source": [
    "test_label[:10]"
   ]
  },
  {
   "cell_type": "code",
   "execution_count": 4,
   "metadata": {},
   "outputs": [],
   "source": [
    "y_pred = clf.predict(test_features[:])"
   ]
  },
  {
   "cell_type": "code",
   "execution_count": 5,
   "metadata": {},
   "outputs": [
    {
     "data": {
      "text/plain": [
       "array([[693, 220],\n",
       "       [204, 688]], dtype=int64)"
      ]
     },
     "execution_count": 5,
     "metadata": {},
     "output_type": "execute_result"
    }
   ],
   "source": [
    "from sklearn.metrics import confusion_matrix\n",
    "\n",
    "confusion_matrix(test_label, y_pred)"
   ]
  },
  {
   "cell_type": "code",
   "execution_count": 6,
   "metadata": {},
   "outputs": [
    {
     "name": "stderr",
     "output_type": "stream",
     "text": [
      "C:\\Users\\tc\\AppData\\Local\\Programs\\Python\\Python39\\lib\\site-packages\\sklearn\\utils\\deprecation.py:87: FutureWarning: Function plot_confusion_matrix is deprecated; Function `plot_confusion_matrix` is deprecated in 1.0 and will be removed in 1.2. Use one of the class methods: ConfusionMatrixDisplay.from_predictions or ConfusionMatrixDisplay.from_estimator.\n",
      "  warnings.warn(msg, category=FutureWarning)\n"
     ]
    },
    {
     "data": {
      "image/png": "[encoded data removed]",
      "text/plain": [
       "<Figure size 432x288 with 2 Axes>"
      ]
     },
     "metadata": {
      "needs_background": "light"
     },
     "output_type": "display_data"
    }
   ],
   "source": [
    "import matplotlib.pyplot as  plt\n",
    "from sklearn.metrics import plot_confusion_matrix\n",
    "plot_confusion_matrix(clf, test_features, test_label)\n",
    "plt.show()"
   ]
  },
  {
   "cell_type": "code",
   "execution_count": 7,
   "metadata": {},
   "outputs": [
    {
     "data": {
      "text/plain": [
       "0.7650969529085873"
      ]
     },
     "execution_count": 7,
     "metadata": {},
     "output_type": "execute_result"
    }
   ],
   "source": [
    "from sklearn.metrics import accuracy_score\n",
    "accuracy_score(test_label, y_pred)"
   ]
  },
  {
   "cell_type": "code",
   "execution_count": 8,
   "metadata": {},
   "outputs": [
    {
     "name": "stdout",
     "output_type": "stream",
     "text": [
      "              precision    recall  f1-score   support\n",
      "\n",
      "        -1.0       0.77      0.76      0.77       913\n",
      "         1.0       0.76      0.77      0.76       892\n",
      "\n",
      "    accuracy                           0.77      1805\n",
      "   macro avg       0.77      0.77      0.77      1805\n",
      "weighted avg       0.77      0.77      0.77      1805\n",
      "\n"
     ]
    },
    {
     "name": "stderr",
     "output_type": "stream",
     "text": [
      "C:\\Users\\tc\\AppData\\Local\\Programs\\Python\\Python39\\lib\\site-packages\\sklearn\\utils\\deprecation.py:87: FutureWarning: Function plot_roc_curve is deprecated; Function :func:`plot_roc_curve` is deprecated in 1.0 and will be removed in 1.2. Use one of the class methods: :meth:`sklearn.metric.RocCurveDisplay.from_predictions` or :meth:`sklearn.metric.RocCurveDisplay.from_estimator`.\n",
      "  warnings.warn(msg, category=FutureWarning)\n"
     ]
    },
    {
     "data": {
      "text/plain": [
       "<sklearn.metrics._plot.roc_curve.RocCurveDisplay at 0x25fffeb1e80>"
      ]
     },
     "execution_count": 8,
     "metadata": {},
     "output_type": "execute_result"
    },
    {
     "data": {
      "image/png": "[encoded data removed]",
      "text/plain": [
       "<Figure size 432x288 with 1 Axes>"
      ]
     },
     "metadata": {
      "needs_background": "light"
     },
     "output_type": "display_data"
    }
   ],
   "source": [
    "from sklearn.metrics import classification_report\n",
    "print(classification_report(test_label, y_pred))\n",
    "\n",
    "from sklearn.metrics import plot_roc_curve\n",
    "plot_roc_curve(clf, test_features, test_label) "
   ]
  }
 ],
 "metadata": {
  "interpreter": {
   "hash": "31f2aee4e71d21fbe5cf8b01ff0e069b9275f58929596ceb00d14d90e3e16cd6"
  },
  "kernelspec": {
   "display_name": "Python 3.8.10 64-bit",
   "language": "python",
   "name": "python3"
  },
  "language_info": {
   "codemirror_mode": {
    "name": "ipython",
    "version": 3
   },
   "file_extension": ".py",
   "mimetype": "text/x-python",
   "name": "python",
   "nbconvert_exporter": "python",
   "pygments_lexer": "ipython3",
   "version": "3.9.4"
  },
  "orig_nbformat": 4
 },
 "nbformat": 4,
 "nbformat_minor": 2
}
